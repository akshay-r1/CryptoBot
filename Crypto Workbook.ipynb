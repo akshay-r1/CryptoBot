{
 "cells": [
  {
   "cell_type": "code",
   "execution_count": 1,
   "metadata": {},
   "outputs": [],
   "source": [
    "import pandas as pd\n",
    "import matplotlib.pyplot as plt\n",
    "import requests"
   ]
  },
  {
   "cell_type": "code",
   "execution_count": 2,
   "metadata": {},
   "outputs": [
    {
     "name": "stdout",
     "output_type": "stream",
     "text": [
      "                    slug symbol          name  ranknow        open  \\\n",
      "date                                                                 \n",
      "2013-04-28       bitcoin    BTC       Bitcoin        1  135.300000   \n",
      "2013-04-29       bitcoin    BTC       Bitcoin        1  134.440000   \n",
      "2013-04-30       bitcoin    BTC       Bitcoin        1  144.000000   \n",
      "2013-05-01       bitcoin    BTC       Bitcoin        1  139.000000   \n",
      "2013-05-02       bitcoin    BTC       Bitcoin        1  116.380000   \n",
      "2013-05-03       bitcoin    BTC       Bitcoin        1  106.250000   \n",
      "2013-05-04       bitcoin    BTC       Bitcoin        1   98.100000   \n",
      "2013-05-05       bitcoin    BTC       Bitcoin        1  112.900000   \n",
      "2013-05-06       bitcoin    BTC       Bitcoin        1  115.980000   \n",
      "2013-05-07       bitcoin    BTC       Bitcoin        1  112.250000   \n",
      "2013-05-08       bitcoin    BTC       Bitcoin        1  109.600000   \n",
      "2013-05-09       bitcoin    BTC       Bitcoin        1  113.200000   \n",
      "2013-05-10       bitcoin    BTC       Bitcoin        1  112.800000   \n",
      "2013-05-11       bitcoin    BTC       Bitcoin        1  117.700000   \n",
      "2013-05-12       bitcoin    BTC       Bitcoin        1  115.640000   \n",
      "2013-05-13       bitcoin    BTC       Bitcoin        1  114.820000   \n",
      "2013-05-14       bitcoin    BTC       Bitcoin        1  117.980000   \n",
      "2013-05-15       bitcoin    BTC       Bitcoin        1  111.400000   \n",
      "2013-05-16       bitcoin    BTC       Bitcoin        1  114.220000   \n",
      "2013-05-17       bitcoin    BTC       Bitcoin        1  118.210000   \n",
      "2013-05-18       bitcoin    BTC       Bitcoin        1  123.500000   \n",
      "2013-05-19       bitcoin    BTC       Bitcoin        1  123.210000   \n",
      "2013-05-20       bitcoin    BTC       Bitcoin        1  122.500000   \n",
      "2013-05-21       bitcoin    BTC       Bitcoin        1  122.020000   \n",
      "2013-05-22       bitcoin    BTC       Bitcoin        1  122.890000   \n",
      "2013-05-23       bitcoin    BTC       Bitcoin        1  123.800000   \n",
      "2013-05-24       bitcoin    BTC       Bitcoin        1  126.300000   \n",
      "2013-05-25       bitcoin    BTC       Bitcoin        1  133.100000   \n",
      "2013-05-26       bitcoin    BTC       Bitcoin        1  131.990000   \n",
      "2013-05-27       bitcoin    BTC       Bitcoin        1  133.500000   \n",
      "...                  ...    ...           ...      ...         ...   \n",
      "2018-05-09  jingtum-tech   SWTC  Jingtum Tech     1644    0.006183   \n",
      "2018-05-10  jingtum-tech   SWTC  Jingtum Tech     1644    0.006160   \n",
      "2018-05-11  jingtum-tech   SWTC  Jingtum Tech     1644    0.006072   \n",
      "2018-05-12  jingtum-tech   SWTC  Jingtum Tech     1644    0.005700   \n",
      "2018-05-13  jingtum-tech   SWTC  Jingtum Tech     1644    0.005667   \n",
      "2018-05-14  jingtum-tech   SWTC  Jingtum Tech     1644    0.005564   \n",
      "2018-05-15  jingtum-tech   SWTC  Jingtum Tech     1644    0.005566   \n",
      "2018-05-16  jingtum-tech   SWTC  Jingtum Tech     1644    0.006600   \n",
      "2018-05-17  jingtum-tech   SWTC  Jingtum Tech     1644    0.006308   \n",
      "2018-05-18  jingtum-tech   SWTC  Jingtum Tech     1644    0.008648   \n",
      "2018-05-19  jingtum-tech   SWTC  Jingtum Tech     1644    0.007584   \n",
      "2018-05-20  jingtum-tech   SWTC  Jingtum Tech     1644    0.006807   \n",
      "2018-05-21  jingtum-tech   SWTC  Jingtum Tech     1644    0.006882   \n",
      "2018-05-22  jingtum-tech   SWTC  Jingtum Tech     1644    0.006250   \n",
      "2018-05-23  jingtum-tech   SWTC  Jingtum Tech     1644    0.005994   \n",
      "2018-05-24  jingtum-tech   SWTC  Jingtum Tech     1644    0.005785   \n",
      "2018-05-11         aston    ATX         Aston     1645    0.165137   \n",
      "2018-05-12         aston    ATX         Aston     1645    0.166220   \n",
      "2018-05-13         aston    ATX         Aston     1645    0.251915   \n",
      "2018-05-14         aston    ATX         Aston     1645    0.230032   \n",
      "2018-05-15         aston    ATX         Aston     1645    0.211310   \n",
      "2018-05-16         aston    ATX         Aston     1645    0.192636   \n",
      "2018-05-17         aston    ATX         Aston     1645    0.203366   \n",
      "2018-05-18         aston    ATX         Aston     1645    0.184179   \n",
      "2018-05-19         aston    ATX         Aston     1645    0.180433   \n",
      "2018-05-20         aston    ATX         Aston     1645    0.174143   \n",
      "2018-05-21         aston    ATX         Aston     1645    0.168075   \n",
      "2018-05-22         aston    ATX         Aston     1645    0.156766   \n",
      "2018-05-23         aston    ATX         Aston     1645    0.147663   \n",
      "2018-05-24         aston    ATX         Aston     1645    0.142871   \n",
      "\n",
      "                  high         low       close     volume        market  \\\n",
      "date                                                                      \n",
      "2013-04-28  135.980000  132.100000  134.210000        0.0  1.500520e+09   \n",
      "2013-04-29  147.490000  134.000000  144.540000        0.0  1.491160e+09   \n",
      "2013-04-30  146.930000  134.050000  139.000000        0.0  1.597780e+09   \n",
      "2013-05-01  139.890000  107.720000  116.990000        0.0  1.542820e+09   \n",
      "2013-05-02  125.600000   92.280000  105.210000        0.0  1.292190e+09   \n",
      "2013-05-03  108.130000   79.100000   97.750000        0.0  1.180070e+09   \n",
      "2013-05-04  115.000000   92.500000  112.500000        0.0  1.089890e+09   \n",
      "2013-05-05  118.800000  107.140000  115.910000        0.0  1.254760e+09   \n",
      "2013-05-06  124.660000  106.640000  112.300000        0.0  1.289470e+09   \n",
      "2013-05-07  113.440000   97.700000  111.500000        0.0  1.248470e+09   \n",
      "2013-05-08  115.780000  109.600000  113.570000        0.0  1.219450e+09   \n",
      "2013-05-09  113.460000  109.260000  112.670000        0.0  1.259980e+09   \n",
      "2013-05-10  122.000000  111.550000  117.200000        0.0  1.255970e+09   \n",
      "2013-05-11  118.680000  113.010000  115.240000        0.0  1.311050e+09   \n",
      "2013-05-12  117.450000  113.440000  115.000000        0.0  1.288630e+09   \n",
      "2013-05-13  118.700000  114.500000  117.980000        0.0  1.279980e+09   \n",
      "2013-05-14  119.800000  110.250000  111.500000        0.0  1.315720e+09   \n",
      "2013-05-15  115.810000  103.500000  114.220000        0.0  1.242760e+09   \n",
      "2013-05-16  118.760000  112.200000  118.760000        0.0  1.274620e+09   \n",
      "2013-05-17  125.300000  116.570000  123.020000        0.0  1.319590e+09   \n",
      "2013-05-18  125.250000  122.300000  123.500000        0.0  1.379140e+09   \n",
      "2013-05-19  124.500000  119.570000  121.990000        0.0  1.376370e+09   \n",
      "2013-05-20  123.620000  120.120000  122.000000        0.0  1.368910e+09   \n",
      "2013-05-21  123.000000  121.210000  122.880000        0.0  1.363940e+09   \n",
      "2013-05-22  124.000000  122.000000  123.890000        0.0  1.374130e+09   \n",
      "2013-05-23  126.930000  123.100000  126.700000        0.0  1.384780e+09   \n",
      "2013-05-24  133.850000  125.720000  133.200000        0.0  1.413300e+09   \n",
      "2013-05-25  133.220000  128.900000  131.980000        0.0  1.489950e+09   \n",
      "2013-05-26  136.000000  130.620000  133.480000        0.0  1.478030e+09   \n",
      "2013-05-27  135.470000  124.700000  129.750000        0.0  1.495520e+09   \n",
      "...                ...         ...         ...        ...           ...   \n",
      "2018-05-09    0.006197    0.006034    0.006059    86986.0  0.000000e+00   \n",
      "2018-05-10    0.006160    0.006047    0.006077    91476.0  0.000000e+00   \n",
      "2018-05-11    0.006081    0.005602    0.005700   101879.0  0.000000e+00   \n",
      "2018-05-12    0.006019    0.005505    0.005667    85542.0  0.000000e+00   \n",
      "2018-05-13    0.005670    0.005416    0.005565    90098.0  0.000000e+00   \n",
      "2018-05-14    0.005585    0.005210    0.005568    80558.0  0.000000e+00   \n",
      "2018-05-15    0.006918    0.005299    0.006660   202674.0  0.000000e+00   \n",
      "2018-05-16    0.006796    0.006164    0.006308   140899.0  0.000000e+00   \n",
      "2018-05-17    0.009284    0.006231    0.008647   493302.0  0.000000e+00   \n",
      "2018-05-18    0.010041    0.006500    0.007582   416570.0  0.000000e+00   \n",
      "2018-05-19    0.007597    0.006502    0.006807    96824.0  0.000000e+00   \n",
      "2018-05-20    0.007092    0.006806    0.006883   142333.0  0.000000e+00   \n",
      "2018-05-21    0.006896    0.006877    0.006891   142503.0  0.000000e+00   \n",
      "2018-05-22    0.006992    0.005994    0.005994    71278.0  0.000000e+00   \n",
      "2018-05-23    0.006195    0.005010    0.005785   245220.0  0.000000e+00   \n",
      "2018-05-24    0.005880    0.005099    0.005692   285669.0  0.000000e+00   \n",
      "2018-05-11    0.169753    0.165137    0.168394  3449410.0  0.000000e+00   \n",
      "2018-05-12    0.252689    0.166220    0.248275  5495050.0  0.000000e+00   \n",
      "2018-05-13    0.266767    0.190654    0.223815  4363120.0  0.000000e+00   \n",
      "2018-05-14    0.235026    0.199848    0.211586  2637030.0  0.000000e+00   \n",
      "2018-05-15    0.232529    0.169484    0.192747  2237920.0  0.000000e+00   \n",
      "2018-05-16    0.215440    0.161388    0.204076  2173870.0  0.000000e+00   \n",
      "2018-05-17    0.224843    0.180957    0.182081  1911050.0  0.000000e+00   \n",
      "2018-05-18    0.185596    0.152549    0.180460  2004120.0  0.000000e+00   \n",
      "2018-05-19    0.180591    0.158397    0.174013   925414.0  0.000000e+00   \n",
      "2018-05-20    0.174143    0.157184    0.167866   854900.0  0.000000e+00   \n",
      "2018-05-21    0.169099    0.165706    0.166054   845673.0  0.000000e+00   \n",
      "2018-05-22    0.157625    0.142146    0.150380   486511.0  0.000000e+00   \n",
      "2018-05-23    0.169331    0.131630    0.138031  1411730.0  0.000000e+00   \n",
      "2018-05-24    0.157774    0.139641    0.148132   821824.0  0.000000e+00   \n",
      "\n",
      "            close_ratio  spread  \n",
      "date                             \n",
      "2013-04-28       0.5438    3.88  \n",
      "2013-04-29       0.7813   13.49  \n",
      "2013-04-30       0.3843   12.88  \n",
      "2013-05-01       0.2882   32.17  \n",
      "2013-05-02       0.3881   33.32  \n",
      "2013-05-03       0.6424   29.03  \n",
      "2013-05-04       0.8889   22.50  \n",
      "2013-05-05       0.7521   11.66  \n",
      "2013-05-06       0.3141   18.02  \n",
      "2013-05-07       0.8767   15.74  \n",
      "2013-05-08       0.6424    6.18  \n",
      "2013-05-09       0.8119    4.20  \n",
      "2013-05-10       0.5407   10.45  \n",
      "2013-05-11       0.3933    5.67  \n",
      "2013-05-12       0.3890    4.01  \n",
      "2013-05-13       0.8286    4.20  \n",
      "2013-05-14       0.1309    9.55  \n",
      "2013-05-15       0.8708   12.31  \n",
      "2013-05-16       1.0000    6.56  \n",
      "2013-05-17       0.7388    8.73  \n",
      "2013-05-18       0.4068    2.95  \n",
      "2013-05-19       0.4909    4.93  \n",
      "2013-05-20       0.5371    3.50  \n",
      "2013-05-21       0.9330    1.79  \n",
      "2013-05-22       0.9450    2.00  \n",
      "2013-05-23       0.9399    3.83  \n",
      "2013-05-24       0.9200    8.13  \n",
      "2013-05-25       0.7130    4.32  \n",
      "2013-05-26       0.5316    5.38  \n",
      "2013-05-27       0.4689   10.77  \n",
      "...                 ...     ...  \n",
      "2018-05-09       0.1534    0.00  \n",
      "2018-05-10       0.2655    0.00  \n",
      "2018-05-11       0.2046    0.00  \n",
      "2018-05-12       0.3152    0.00  \n",
      "2018-05-13       0.5866    0.00  \n",
      "2018-05-14       0.9547    0.00  \n",
      "2018-05-15       0.8406    0.00  \n",
      "2018-05-16       0.2278    0.00  \n",
      "2018-05-17       0.7914    0.00  \n",
      "2018-05-18       0.3056    0.00  \n",
      "2018-05-19       0.2785    0.00  \n",
      "2018-05-20       0.2692    0.00  \n",
      "2018-05-21       0.7368    0.00  \n",
      "2018-05-22       0.0000    0.00  \n",
      "2018-05-23       0.6540    0.00  \n",
      "2018-05-24       0.7593    0.00  \n",
      "2018-05-11       0.7056    0.00  \n",
      "2018-05-12       0.9490    0.09  \n",
      "2018-05-13       0.4357    0.08  \n",
      "2018-05-14       0.3337    0.04  \n",
      "2018-05-15       0.3690    0.06  \n",
      "2018-05-16       0.7898    0.05  \n",
      "2018-05-17       0.0256    0.04  \n",
      "2018-05-18       0.8446    0.03  \n",
      "2018-05-19       0.7036    0.02  \n",
      "2018-05-20       0.6299    0.02  \n",
      "2018-05-21       0.1026    0.00  \n",
      "2018-05-22       0.5319    0.02  \n",
      "2018-05-23       0.1698    0.04  \n",
      "2018-05-24       0.4683    0.02  \n",
      "\n",
      "[785024 rows x 12 columns]\n"
     ]
    }
   ],
   "source": [
    "data = pd.read_csv('./Data Directory/crypto-markets.csv',parse_dates=['date'], index_col='date')\n",
    "print(data)"
   ]
  },
  {
   "cell_type": "code",
   "execution_count": 3,
   "metadata": {},
   "outputs": [
    {
     "name": "stdout",
     "output_type": "stream",
     "text": [
      "{'entities': [{'start': 17, 'extractor': 'ner_crf', 'end': 24, 'value': 'bitcoin', 'entity': 'Crypto'}, {'start': 28, 'extractor': 'ner_crf', 'end': 38, 'value': '19-01-2018', 'entity': 'date'}], 'intent': {'confidence': 0.5137606618784905, 'name': 'GetCloseByDate'}, 'text': 'Closing value of bitcoin on 19-01-2018', 'intent_ranking': [{'confidence': 0.5137606618784905, 'name': 'GetCloseByDate'}, {'confidence': 0.0694217855626597, 'name': 'GetHighestValueByName'}, {'confidence': 0.060514596723437376, 'name': 'goodbye'}, {'confidence': 0.059634753041302176, 'name': 'GetStatusByName'}, {'confidence': 0.05697550865602351, 'name': 'Prediction'}, {'confidence': 0.055822525527833004, 'name': 'CryptoList'}, {'confidence': 0.04238421937751399, 'name': 'intro'}, {'confidence': 0.04174483371196994, 'name': 'PlotCurrencyGraph'}, {'confidence': 0.03624406479517141, 'name': 'greet'}, {'confidence': 0.03341220909085452, 'name': 'AttributesKnowledgeBase'}]}\n"
     ]
    }
   ],
   "source": [
    "response = requests.get(\"http://localhost:5000/parse\",params={\"q\":\"Closing value of bitcoin on 19-01-2018\"})\n",
    "response = response.json()\n",
    "print (response)\n",
    "entities = response.get(\"entities\")\n",
    "intent = response.get(\"intent\")"
   ]
  },
  {
   "cell_type": "code",
   "execution_count": 28,
   "metadata": {},
   "outputs": [
    {
     "name": "stdout",
     "output_type": "stream",
     "text": [
      "Response text: 11607.4\n"
     ]
    }
   ],
   "source": [
    "#Closing value for date\n",
    "for i in entities:\n",
    "    if i['entity'] =='Crypto':\n",
    "        crypto=str(i['value'].title())\n",
    "    if i['entity']=='date':\n",
    "        temp=pd.to_datetime(i['value'],format='%d-%m-%Y')\n",
    "        data1 = data.loc[data.index == temp]\n",
    "x=data1.loc[data1['name']==crypto]\n",
    "print(\"Response text: \"+str(x['close'][0]))"
   ]
  },
  {
   "cell_type": "code",
   "execution_count": 29,
   "metadata": {},
   "outputs": [
    {
     "ename": "KeyError",
     "evalue": "'19-01-2018'",
     "output_type": "error",
     "traceback": [
      "\u001b[0;31m---------------------------------------------------------------------------\u001b[0m",
      "\u001b[0;31mTypeError\u001b[0m                                 Traceback (most recent call last)",
      "\u001b[0;32m/usr/local/lib/python3.6/site-packages/pandas/core/indexes/base.py\u001b[0m in \u001b[0;36mget_value\u001b[0;34m(self, series, key)\u001b[0m\n\u001b[1;32m   2565\u001b[0m             \u001b[0;32mtry\u001b[0m\u001b[0;34m:\u001b[0m\u001b[0;34m\u001b[0m\u001b[0m\n\u001b[0;32m-> 2566\u001b[0;31m                 \u001b[0;32mreturn\u001b[0m \u001b[0mlibts\u001b[0m\u001b[0;34m.\u001b[0m\u001b[0mget_value_box\u001b[0m\u001b[0;34m(\u001b[0m\u001b[0ms\u001b[0m\u001b[0;34m,\u001b[0m \u001b[0mkey\u001b[0m\u001b[0;34m)\u001b[0m\u001b[0;34m\u001b[0m\u001b[0m\n\u001b[0m\u001b[1;32m   2567\u001b[0m             \u001b[0;32mexcept\u001b[0m \u001b[0mIndexError\u001b[0m\u001b[0;34m:\u001b[0m\u001b[0;34m\u001b[0m\u001b[0m\n",
      "\u001b[0;32mpandas/_libs/tslib.pyx\u001b[0m in \u001b[0;36mpandas._libs.tslib.get_value_box\u001b[0;34m()\u001b[0m\n",
      "\u001b[0;32mpandas/_libs/tslib.pyx\u001b[0m in \u001b[0;36mpandas._libs.tslib.get_value_box\u001b[0;34m()\u001b[0m\n",
      "\u001b[0;31mTypeError\u001b[0m: 'str' object cannot be interpreted as an integer",
      "\nDuring handling of the above exception, another exception occurred:\n",
      "\u001b[0;31mKeyError\u001b[0m                                  Traceback (most recent call last)",
      "\u001b[0;32m<ipython-input-29-ed227c25b21c>\u001b[0m in \u001b[0;36m<module>\u001b[0;34m()\u001b[0m\n\u001b[1;32m      4\u001b[0m \u001b[0;32mfor\u001b[0m \u001b[0mi\u001b[0m \u001b[0;32min\u001b[0m \u001b[0mentities\u001b[0m\u001b[0;34m:\u001b[0m\u001b[0;34m\u001b[0m\u001b[0m\n\u001b[1;32m      5\u001b[0m     \u001b[0mtemp\u001b[0m\u001b[0;34m=\u001b[0m\u001b[0mstr\u001b[0m\u001b[0;34m(\u001b[0m\u001b[0mi\u001b[0m\u001b[0;34m[\u001b[0m\u001b[0;34m'value'\u001b[0m\u001b[0;34m]\u001b[0m\u001b[0;34m)\u001b[0m\u001b[0;34m.\u001b[0m\u001b[0mtitle\u001b[0m\u001b[0;34m(\u001b[0m\u001b[0;34m)\u001b[0m\u001b[0;34m\u001b[0m\u001b[0m\n\u001b[0;32m----> 6\u001b[0;31m     \u001b[0mresponse_text\u001b[0m \u001b[0;34m=\u001b[0m \u001b[0mresponse_text\u001b[0m \u001b[0;34m+\u001b[0m \u001b[0mstr\u001b[0m\u001b[0;34m(\u001b[0m\u001b[0mi\u001b[0m\u001b[0;34m[\u001b[0m\u001b[0;34m'value'\u001b[0m\u001b[0;34m]\u001b[0m\u001b[0;34m.\u001b[0m\u001b[0mtitle\u001b[0m\u001b[0;34m(\u001b[0m\u001b[0;34m)\u001b[0m\u001b[0;34m)\u001b[0m \u001b[0;34m+\u001b[0m \u001b[0;34m\" Highest value ever was $\"\u001b[0m \u001b[0;34m+\u001b[0m \u001b[0mstr\u001b[0m\u001b[0;34m(\u001b[0m\u001b[0mdata1\u001b[0m\u001b[0;34m[\u001b[0m\u001b[0mtemp\u001b[0m\u001b[0;34m]\u001b[0m\u001b[0;34m)\u001b[0m \u001b[0;34m+\u001b[0m \u001b[0;34m\"\\n\"\u001b[0m\u001b[0;34m\u001b[0m\u001b[0m\n\u001b[0m\u001b[1;32m      7\u001b[0m \u001b[0mprint\u001b[0m\u001b[0;34m(\u001b[0m\u001b[0mresponse_text\u001b[0m\u001b[0;34m)\u001b[0m\u001b[0;34m\u001b[0m\u001b[0m\n",
      "\u001b[0;32m/usr/local/lib/python3.6/site-packages/pandas/core/series.py\u001b[0m in \u001b[0;36m__getitem__\u001b[0;34m(self, key)\u001b[0m\n\u001b[1;32m    621\u001b[0m         \u001b[0mkey\u001b[0m \u001b[0;34m=\u001b[0m \u001b[0mcom\u001b[0m\u001b[0;34m.\u001b[0m\u001b[0m_apply_if_callable\u001b[0m\u001b[0;34m(\u001b[0m\u001b[0mkey\u001b[0m\u001b[0;34m,\u001b[0m \u001b[0mself\u001b[0m\u001b[0;34m)\u001b[0m\u001b[0;34m\u001b[0m\u001b[0m\n\u001b[1;32m    622\u001b[0m         \u001b[0;32mtry\u001b[0m\u001b[0;34m:\u001b[0m\u001b[0;34m\u001b[0m\u001b[0m\n\u001b[0;32m--> 623\u001b[0;31m             \u001b[0mresult\u001b[0m \u001b[0;34m=\u001b[0m \u001b[0mself\u001b[0m\u001b[0;34m.\u001b[0m\u001b[0mindex\u001b[0m\u001b[0;34m.\u001b[0m\u001b[0mget_value\u001b[0m\u001b[0;34m(\u001b[0m\u001b[0mself\u001b[0m\u001b[0;34m,\u001b[0m \u001b[0mkey\u001b[0m\u001b[0;34m)\u001b[0m\u001b[0;34m\u001b[0m\u001b[0m\n\u001b[0m\u001b[1;32m    624\u001b[0m \u001b[0;34m\u001b[0m\u001b[0m\n\u001b[1;32m    625\u001b[0m             \u001b[0;32mif\u001b[0m \u001b[0;32mnot\u001b[0m \u001b[0mis_scalar\u001b[0m\u001b[0;34m(\u001b[0m\u001b[0mresult\u001b[0m\u001b[0;34m)\u001b[0m\u001b[0;34m:\u001b[0m\u001b[0;34m\u001b[0m\u001b[0m\n",
      "\u001b[0;32m/usr/local/lib/python3.6/site-packages/pandas/core/indexes/base.py\u001b[0m in \u001b[0;36mget_value\u001b[0;34m(self, series, key)\u001b[0m\n\u001b[1;32m   2572\u001b[0m                     \u001b[0;32mraise\u001b[0m \u001b[0mInvalidIndexError\u001b[0m\u001b[0;34m(\u001b[0m\u001b[0mkey\u001b[0m\u001b[0;34m)\u001b[0m\u001b[0;34m\u001b[0m\u001b[0m\n\u001b[1;32m   2573\u001b[0m                 \u001b[0;32melse\u001b[0m\u001b[0;34m:\u001b[0m\u001b[0;34m\u001b[0m\u001b[0m\n\u001b[0;32m-> 2574\u001b[0;31m                     \u001b[0;32mraise\u001b[0m \u001b[0me1\u001b[0m\u001b[0;34m\u001b[0m\u001b[0m\n\u001b[0m\u001b[1;32m   2575\u001b[0m             \u001b[0;32mexcept\u001b[0m \u001b[0mException\u001b[0m\u001b[0;34m:\u001b[0m  \u001b[0;31m# pragma: no cover\u001b[0m\u001b[0;34m\u001b[0m\u001b[0m\n\u001b[1;32m   2576\u001b[0m                 \u001b[0;32mraise\u001b[0m \u001b[0me1\u001b[0m\u001b[0;34m\u001b[0m\u001b[0m\n",
      "\u001b[0;32m/usr/local/lib/python3.6/site-packages/pandas/core/indexes/base.py\u001b[0m in \u001b[0;36mget_value\u001b[0;34m(self, series, key)\u001b[0m\n\u001b[1;32m   2558\u001b[0m         \u001b[0;32mtry\u001b[0m\u001b[0;34m:\u001b[0m\u001b[0;34m\u001b[0m\u001b[0m\n\u001b[1;32m   2559\u001b[0m             return self._engine.get_value(s, k,\n\u001b[0;32m-> 2560\u001b[0;31m                                           tz=getattr(series.dtype, 'tz', None))\n\u001b[0m\u001b[1;32m   2561\u001b[0m         \u001b[0;32mexcept\u001b[0m \u001b[0mKeyError\u001b[0m \u001b[0;32mas\u001b[0m \u001b[0me1\u001b[0m\u001b[0;34m:\u001b[0m\u001b[0;34m\u001b[0m\u001b[0m\n\u001b[1;32m   2562\u001b[0m             \u001b[0;32mif\u001b[0m \u001b[0mlen\u001b[0m\u001b[0;34m(\u001b[0m\u001b[0mself\u001b[0m\u001b[0;34m)\u001b[0m \u001b[0;34m>\u001b[0m \u001b[0;36m0\u001b[0m \u001b[0;32mand\u001b[0m \u001b[0mself\u001b[0m\u001b[0;34m.\u001b[0m\u001b[0minferred_type\u001b[0m \u001b[0;32min\u001b[0m \u001b[0;34m[\u001b[0m\u001b[0;34m'integer'\u001b[0m\u001b[0;34m,\u001b[0m \u001b[0;34m'boolean'\u001b[0m\u001b[0;34m]\u001b[0m\u001b[0;34m:\u001b[0m\u001b[0;34m\u001b[0m\u001b[0m\n",
      "\u001b[0;32mpandas/_libs/index.pyx\u001b[0m in \u001b[0;36mpandas._libs.index.IndexEngine.get_value\u001b[0;34m()\u001b[0m\n",
      "\u001b[0;32mpandas/_libs/index.pyx\u001b[0m in \u001b[0;36mpandas._libs.index.IndexEngine.get_value\u001b[0;34m()\u001b[0m\n",
      "\u001b[0;32mpandas/_libs/index.pyx\u001b[0m in \u001b[0;36mpandas._libs.index.IndexEngine.get_loc\u001b[0;34m()\u001b[0m\n",
      "\u001b[0;32mpandas/_libs/hashtable_class_helper.pxi\u001b[0m in \u001b[0;36mpandas._libs.hashtable.PyObjectHashTable.get_item\u001b[0;34m()\u001b[0m\n",
      "\u001b[0;32mpandas/_libs/hashtable_class_helper.pxi\u001b[0m in \u001b[0;36mpandas._libs.hashtable.PyObjectHashTable.get_item\u001b[0;34m()\u001b[0m\n",
      "\u001b[0;31mKeyError\u001b[0m: '19-01-2018'"
     ]
    }
   ],
   "source": [
    "#highest value by name\n",
    "response_text=''\n",
    "data1 = data.groupby('name')['high'].max()\n",
    "for i in entities:\n",
    "    temp=str(i['value']).title()\n",
    "    response_text = response_text + str(i['value'].title()) + \" Highest value ever was $\" + str(data1[temp]) + \"\\n\"\n",
    "print(response_text)"
   ]
  },
  {
   "cell_type": "code",
   "execution_count": 9,
   "metadata": {},
   "outputs": [
    {
     "name": "stdout",
     "output_type": "stream",
     "text": [
      "'slug', 'symbol', 'name', 'ranknow', 'open', 'high', 'low', 'close', 'volume', 'market', 'close_ratio', 'spread'\n"
     ]
    }
   ],
   "source": [
    "#Attributes\n",
    "response= data.columns.values.tolist()\n",
    "print(str(response)[1:-1])"
   ]
  },
  {
   "cell_type": "code",
   "execution_count": 10,
   "metadata": {},
   "outputs": [
    {
     "name": "stdout",
     "output_type": "stream",
     "text": [
      "Bitcoin last known value to me for the date 2018-06-06 is : 7653.98\n",
      "Ethereum last known value to me for the date 2018-06-06 is : 607.12\n",
      "\n"
     ]
    }
   ],
   "source": [
    "#Status\n",
    "response_text =''\n",
    "for i in entities:\n",
    "    data1 = data.loc[data['name'] == i['value'].title()]\n",
    "    response_text = response_text + str(i['value'].title()) +' last known value to me for the date ' +str(data1.index[-1].date()) +' is : ' +str(data1['close'][-1]) +\"\\n\"\n",
    "print (response_text)"
   ]
  },
  {
   "cell_type": "code",
   "execution_count": 11,
   "metadata": {},
   "outputs": [
    {
     "name": "stdout",
     "output_type": "stream",
     "text": [
      "The list of cryptos currently in my database include 'Bitcoin' 'Ethereum' 'Ripple' ... 'ENTCash' 'Jingtum Tech' 'Aston'\n"
     ]
    }
   ],
   "source": [
    "#crypto list\n",
    "response_text = \"The list of cryptos currently in my database include \"\n",
    "final_data = data.name.unique()\n",
    "final_data = str(final_data)\n",
    "response_text = response_text + final_data[1:-1]\n",
    "print(response_text)"
   ]
  },
  {
   "cell_type": "code",
   "execution_count": 14,
   "metadata": {},
   "outputs": [
    {
     "data": {
      "image/png": "[encoded data removed]",
      "text/plain": [
       "<matplotlib.figure.Figure at 0x10d986828>"
      ]
     },
     "metadata": {},
     "output_type": "display_data"
    }
   ],
   "source": [
    "#plot graph\n",
    "for i in entities:\n",
    "    data1 = data.loc[data['name'] == i['value'].title()]\n",
    "    plt.plot(data1['high'],label=i['value'].title())\n",
    "    plt.legend(loc='best')\n",
    "plt.show()"
   ]
  },
  {
   "cell_type": "code",
   "execution_count": null,
   "metadata": {},
   "outputs": [],
   "source": []
  }
 ],
 "metadata": {
  "language_info": {
   "codemirror_mode": {
    "name": "ipython",
    "version": 3
   },
   "file_extension": ".py",
   "mimetype": "text/x-python",
   "name": "python",
   "nbconvert_exporter": "python",
   "pygments_lexer": "ipython3",
   "version": "3.6.5"
  }
 },
 "nbformat": 4,
 "nbformat_minor": 2
}
